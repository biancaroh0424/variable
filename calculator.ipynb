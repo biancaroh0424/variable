{
 "cells": [
  {
   "cell_type": "markdown",
   "metadata": {},
   "source": [
    "<!-- 산술 연산자의 적용 -->"
   ]
  },
  {
   "cell_type": "code",
   "execution_count": 23,
   "metadata": {},
   "outputs": [
    {
     "name": "stdout",
     "output_type": "stream",
     "text": [
      "4500.0\n"
     ]
    }
   ],
   "source": [
    "# 콜라 하나의 가격\n",
    "cola = 2000\n",
    "# 콜라 구매 개수\n",
    "nCola = 2\n",
    "# 햄버거 하나의 가격\n",
    "hamburger = 1000\n",
    "# 햄버거 구매개수\n",
    "nHamburder=1\n",
    "# 통신사 할인율\n",
    "discount = 0.1\n",
    "total = (cola*nCola+hamburger*nHamburder)*(1-discount)\n",
    "print(total)"
   ]
  },
  {
   "cell_type": "markdown",
   "metadata": {},
   "source": [
    "<p>산술 연산자의 적용</p>\n",
    "<ul>\n",
    "<li>2+1 행사 상품 가능한 재고 관리(cola 2개 사면 1개는 무료)</li>\n",
    "</ul>"
   ]
  },
  {
   "cell_type": "code",
   "execution_count": 24,
   "metadata": {},
   "outputs": [
    {
     "name": "stdout",
     "output_type": "stream",
     "text": [
      "1\n"
     ]
    }
   ],
   "source": [
    "# 콜라 재고 개수\n",
    "nCola = 2000\n",
    "# 2+1 이벤트 가능한 횟수\n",
    "nEvent = nCola //3 \n",
    "# 2+1 이벤트를 하기 위해 채워야 하는 콜라개수\n",
    "N_lack_cola = 3-(nCola%3)\n",
    "print(N_lack_cola)"
   ]
  },
  {
   "cell_type": "markdown",
   "metadata": {},
   "source": [
    "<p>관계 연산자의 적용</p>\n",
    "<ul>\n",
    "<ol>주류 판매 가능한 거래인지 확인</ol>\n",
    "</ul>"
   ]
  },
  {
   "cell_type": "code",
   "execution_count": 25,
   "metadata": {},
   "outputs": [
    {
     "name": "stdout",
     "output_type": "stream",
     "text": [
      "주류 판매가 가능한가요? False\n",
      "주류 판매가 가능한가요? True\n"
     ]
    }
   ],
   "source": [
    "age = 10\n",
    "print(\"주류 판매가 가능한가요?\", 20<=age)\n",
    "\n",
    "age = 20\n",
    "print(\"주류 판매가 가능한가요?\", 20<=age)"
   ]
  },
  {
   "cell_type": "markdown",
   "metadata": {},
   "source": [
    "<p>관계 연산자의 적용</p>\n",
    "<ul>\n",
    "<ol>마스크 5부제를 통한 판매 가능한 거래인지 확인(생년 끝자리가 7만 구매 가능)</ol>\n",
    "</ul>"
   ]
  },
  {
   "cell_type": "code",
   "execution_count": 26,
   "metadata": {},
   "outputs": [
    {
     "data": {
      "text/plain": [
       "True"
      ]
     },
     "execution_count": 26,
     "metadata": {},
     "output_type": "execute_result"
    }
   ],
   "source": [
    "yearOfBirth = 77\n",
    "yearOfBirth % 10 == 7"
   ]
  },
  {
   "cell_type": "markdown",
   "metadata": {},
   "source": [
    "<p>논리 연산자의 적용</p>\n",
    "<ul>\n",
    "<ol>마스크 5부제를 통한 판매가능한 거래인지 확인(생년 끝자리가 2,7만 구매 가능)</ol>\n",
    "</ul>"
   ]
  },
  {
   "cell_type": "code",
   "execution_count": 28,
   "metadata": {},
   "outputs": [
    {
     "data": {
      "text/plain": [
       "True"
      ]
     },
     "execution_count": 28,
     "metadata": {},
     "output_type": "execute_result"
    }
   ],
   "source": [
    "yearOfBirth = 77\n",
    "endNumber = yearOfBirth % 10\n",
    "endNumber == 2 or endNumber == 7"
   ]
  },
  {
   "cell_type": "markdown",
   "metadata": {},
   "source": [
    "복합대입 연산자의 적용\n",
    "편의점에서의 바코드 스캐닝을 통한 누적금액 계산"
   ]
  },
  {
   "cell_type": "code",
   "execution_count": 32,
   "metadata": {},
   "outputs": [],
   "source": [
    "total = 0\n",
    "cola = 1000\n",
    "hamburger=2000\n",
    "milk = 1500\n",
    "# 바코드 스캐닝 시작\n",
    "total+=cola\n",
    "total+=hamburger\n",
    "total+=milk\n",
    "# total = total+cola+total+hamburger+total+milk"
   ]
  },
  {
   "cell_type": "markdown",
   "metadata": {},
   "source": [
    "연산자 우선 순위의 적용\n",
    "햄버거 1개, 콜라 2개 - 10% 할인 적용"
   ]
  },
  {
   "cell_type": "code",
   "execution_count": 35,
   "metadata": {},
   "outputs": [
    {
     "name": "stdout",
     "output_type": "stream",
     "text": [
      "4500.0\n"
     ]
    }
   ],
   "source": [
    "# 콜라 하나의 가격\n",
    "cola = 2000\n",
    "# 콜라 구매 갯수\n",
    "nCola = 2\n",
    "# 햄버거 하나의 가격\n",
    "hamburger = 1000\n",
    "# 햄버거 구매 갯수\n",
    "nHamburger=1\n",
    "# 통신사 할인율\n",
    "discount = 0.1\n",
    "# 최종값\n",
    "total = (cola*nCola+hamburger*nHamburger)*(1-discount)\n",
    "print(total)"
   ]
  },
  {
   "cell_type": "code",
   "execution_count": null,
   "metadata": {},
   "outputs": [],
   "source": []
  }
 ],
 "metadata": {
  "kernelspec": {
   "display_name": "Python 3",
   "language": "python",
   "name": "python3"
  },
  "language_info": {
   "codemirror_mode": {
    "name": "ipython",
    "version": 3
   },
   "file_extension": ".py",
   "mimetype": "text/x-python",
   "name": "python",
   "nbconvert_exporter": "python",
   "pygments_lexer": "ipython3",
   "version": "3.12.2"
  }
 },
 "nbformat": 4,
 "nbformat_minor": 2
}
